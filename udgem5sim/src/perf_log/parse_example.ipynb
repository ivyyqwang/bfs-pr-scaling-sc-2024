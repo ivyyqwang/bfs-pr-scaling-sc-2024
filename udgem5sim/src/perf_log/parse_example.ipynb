{
 "cells": [
  {
   "cell_type": "markdown",
   "metadata": {
    "pycharm": {
     "name": "#%% md\n"
    }
   },
   "source": [
    "## Log Extraction"
   ]
  },
  {
   "cell_type": "markdown",
   "metadata": {
    "pycharm": {
     "name": "#%% md\n"
    }
   },
   "source": [
    "### Field Extraction & Dataframe Conversion"
   ]
  },
  {
   "cell_type": "code",
   "execution_count": null,
   "metadata": {
    "pycharm": {
     "name": "#%%\n"
    }
   },
   "outputs": [],
   "source": [
    "from perf_logger import PerfLogger\n",
    "import perf_log_packet_pb2\n",
    "import pandas as pd\n",
    "from google.protobuf.json_format import MessageToDict\n",
    "\n",
    "pd.options.plotting.backend = \"plotly\"\n",
    "# pd.options.plotting.backend = \"matplotlib\"\n",
    "\n",
    "\n",
    "def packet_parse(pkt, fields_dict, msg_dict):\n",
    "    out_dict = dict()\n",
    "    queue = [(pkt, fields_dict, \"\")]\n",
    "    while len(queue) > 0:\n",
    "        cur_obj = queue[0][0]\n",
    "        cur_fields_dict = queue[0][1]\n",
    "        cur_name = queue[0][2]\n",
    "        queue.pop(0)\n",
    "        if len(cur_name) > 0:\n",
    "            cur_name += \".\"\n",
    "\n",
    "        # deal with fields with repeated attributes\n",
    "        for subf, next_dict in cur_fields_dict.items():\n",
    "            if subf == \"top\":\n",
    "                for cur_top in cur_obj.top:\n",
    "                    name = cur_name + subf + \"-\"\n",
    "                    if cur_top.HasField(\"socket_id\"):\n",
    "                        name += \"S{}\".format(getattr(cur_top, \"socket_id\"))\n",
    "                    if cur_top.HasField(\"core_id\"):\n",
    "                        name += \"C{}\".format(getattr(cur_top, \"core_id\"))\n",
    "                    if cur_top.HasField(\"thread_id\"):\n",
    "                        name += \"T{}\".format(getattr(cur_top, \"thread_id\"))\n",
    "\n",
    "                    if \"msg\" in next_dict and cur_top.HasField(\"msg\"):\n",
    "                        msg = cur_top.msg\n",
    "                        msg_id = msg.id\n",
    "                        msg_content_dict = dict()\n",
    "                        msg_content_dict[\"timestamp\"] = out_dict[\"sim_timestamp\"]\n",
    "                        msg_content_dict[\"msg\"] = msg.msg\n",
    "                        msg_content_dict[\"int_regs\"] = []\n",
    "                        msg_content_dict[\"fp_regs\"] = []\n",
    "                        msg_content_dict[\"mem_vals\"] = []\n",
    "                        for int_reg in msg.int_regs:\n",
    "                            msg_content_dict[\"int_regs\"].append(int_reg)\n",
    "                        for fp_reg in msg.fp_regs:\n",
    "                            msg_content_dict[\"fp_regs\"].append(fp_reg)\n",
    "                        for val in msg.mem_vals:\n",
    "                            msg_content_dict[\"mem_vals\"].append(val)\n",
    "                        if name not in msg_dict:\n",
    "                            msg_dict[name] = dict()\n",
    "                        if msg_id not in msg_dict[name]:\n",
    "                            msg_dict[name][msg_id] = []\n",
    "                        msg_dict[name][msg_id].append(msg_content_dict)\n",
    "\n",
    "                    if next_dict is not None:\n",
    "                        queue.append((cur_top, next_dict, name))\n",
    "                    else:\n",
    "                        out_dict[name] = cur_top\n",
    "            elif subf == \"updown\":\n",
    "                # TODO: multiprocessing?\n",
    "                for cur_updown in cur_obj.updown:\n",
    "                    name = cur_name + subf + \"-\"\n",
    "                    if cur_updown.HasField(\"updown_id\"):\n",
    "                        name += \"U{}\".format(getattr(cur_updown, \"updown_id\"))\n",
    "                    if cur_updown.HasField(\"lane_id\"):\n",
    "                        name += \"L{}\".format(getattr(cur_updown, \"lane_id\"))\n",
    "                    # Disabled for now\n",
    "                    # if cur_updown.HasField('thread_id'):\n",
    "                    #     name += 'T{}'.format(getattr(cur_updown, 'thread_id'))\n",
    "                    # if cur_updown.HasField('event_base'):\n",
    "                    #     name += 'EB{}'.format(getattr(cur_updown, 'event_base'))\n",
    "                    # if cur_updown.HasField('event_label'):\n",
    "                    #     name += 'EL{}'.format(getattr(cur_updown, 'event_label'))\n",
    "\n",
    "                    if \"msg\" in next_dict and cur_updown.HasField(\"msg\"):\n",
    "                        msg = cur_updown.msg\n",
    "                        msg_id = msg.id\n",
    "                        msg_content_dict = dict()\n",
    "                        msg_content_dict[\"timestamp\"] = out_dict[\"sim_timestamp\"]\n",
    "                        msg_content_dict[\"msg\"] = msg.msg\n",
    "                        msg_content_dict[\"int_regs\"] = []\n",
    "                        msg_content_dict[\"mem_vals\"] = []\n",
    "                        for int_reg in msg.int_regs:\n",
    "                            msg_content_dict[\"int_regs\"].append(int_reg)\n",
    "                        for val in msg.mem_vals:\n",
    "                            msg_content_dict[\"mem_vals\"].append(val)\n",
    "                        if name not in msg_dict:\n",
    "                            msg_dict[name] = dict()\n",
    "                        if msg_id not in msg_dict[name]:\n",
    "                            msg_dict[name][msg_id] = []\n",
    "                        msg_dict[name][msg_id].append(msg_content_dict)\n",
    "\n",
    "                    if next_dict is not None:\n",
    "                        queue.append((cur_updown, next_dict, name))\n",
    "                    else:\n",
    "                        out_dict[name] = cur_updown\n",
    "            elif subf == \"dram_per_ctrlr_stats\":\n",
    "                for cur_ctrlr in cur_obj.dram_per_ctrlr_stats:\n",
    "                    name = cur_name + subf + \"-\"\n",
    "                    if cur_ctrlr.HasField(\"ctrlr_id\"):\n",
    "                        name += \"C{}\".format(getattr(cur_ctrlr, \"ctrlr_id\"))\n",
    "                    if next_dict is not None:\n",
    "                        queue.append((cur_ctrlr, next_dict, name))\n",
    "                    else:\n",
    "                        out_dict[name] = cur_ctrlr\n",
    "            elif subf == \"msg\" and next_dict is None:\n",
    "                continue\n",
    "            elif cur_obj.HasField(subf):\n",
    "                obj = getattr(cur_obj, subf)\n",
    "                name = cur_name + subf\n",
    "\n",
    "                if subf == \"system\" and \"msg\" in next_dict and obj.HasField(\"msg\"):\n",
    "                    msg = obj.msg\n",
    "                    msg_id = msg.id\n",
    "                    msg_content_dict = dict()\n",
    "                    msg_content_dict[\"timestamp\"] = out_dict[\"sim_timestamp\"]\n",
    "                    msg_content_dict[\"msg\"] = msg.msg\n",
    "                    if name not in msg_dict:\n",
    "                        msg_dict[name] = dict()\n",
    "                    if msg_id not in msg_dict[name]:\n",
    "                        msg_dict[name][msg_id] = []\n",
    "                    msg_dict[name][msg_id].append(msg_content_dict)\n",
    "\n",
    "                if next_dict is not None:\n",
    "                    queue.append((obj, next_dict, name))\n",
    "                else:\n",
    "                    out_dict[name] = obj\n",
    "    return out_dict\n",
    "\n",
    "\n",
    "def extract_fields(logger, fields):\n",
    "    # Header parsing\n",
    "    hdr = logger.read(perf_log_packet_pb2.PerfLogHeader())\n",
    "    hdr_dict = MessageToDict(hdr, preserving_proto_field_name=True)  # convert message to python dictionary\n",
    "    print(hdr_dict)\n",
    "\n",
    "    if 'sim_timestamp' not in fields:\n",
    "        fields = ['sim_timestamp'] + fields\n",
    "\n",
    "    df = pd.DataFrame(columns=['sim_timestamp'])\n",
    "    msg_dict = dict()\n",
    "\n",
    "    split_fields = [field.split('.') for field in fields]\n",
    "\n",
    "    # Convert list of fields to parse to nested dicts\n",
    "    fields_dict = dict()\n",
    "    for field in split_fields:\n",
    "        cur_level = fields_dict\n",
    "        for i, subf in enumerate(field):\n",
    "            if i == len(field) - 1:\n",
    "                cur_level[subf] = None\n",
    "            else:\n",
    "                if subf not in cur_level:\n",
    "                    cur_level[subf] = dict()\n",
    "                cur_level = cur_level[subf]\n",
    "\n",
    "    # Packet parsing\n",
    "    pkt_cnt = 0\n",
    "    while True:\n",
    "        pkt = logger.read(perf_log_packet_pb2.PerfLogPacket())\n",
    "        if pkt is None:\n",
    "            break\n",
    "        pkt_cnt += 1\n",
    "        row_dict = packet_parse(pkt, fields_dict, msg_dict)\n",
    "        if pkt_cnt % 1000 == 0:\n",
    "            print('Processed packet # {}, timestamp {}'.format(pkt_cnt, row_dict['sim_timestamp']))\n",
    "\n",
    "        if len(row_dict) > 1:\n",
    "            df = pd.concat([df, pd.DataFrame(row_dict, index=[0])])\n",
    "\n",
    "    return df.set_index('sim_timestamp'), msg_dict"
   ]
  },
  {
   "cell_type": "markdown",
   "metadata": {
    "pycharm": {
     "name": "#%% md\n"
    }
   },
   "source": [
    "### Logger Instantiation"
   ]
  },
  {
   "cell_type": "code",
   "execution_count": null,
   "metadata": {
    "pycharm": {
     "name": "#%%\n"
    }
   },
   "outputs": [],
   "source": [
    "logger = PerfLogger('gem5_perf_log.bin', write=False)"
   ]
  },
  {
   "cell_type": "markdown",
   "metadata": {
    "pycharm": {
     "name": "#%% md\n"
    }
   },
   "source": [
    "### Gem5 Log Extraction"
   ]
  },
  {
   "cell_type": "code",
   "execution_count": null,
   "metadata": {
    "pycharm": {
     "name": "#%%\n"
    }
   },
   "outputs": [],
   "source": [
    "df, msg_dict = extract_fields(logger, [\n",
    "                                       'top.msg',\n",
    "\n",
    "                                       'top.core_stats.cycles',\n",
    "                                       'top.core_stats.num_insts',\n",
    "                                       'top.core_stats.num_insts_issued',\n",
    "                                       'top.core_stats.num_insts_committed',\n",
    "\n",
    "                                       'top.l1_cache_stats.dcache_total_accesses',\n",
    "                                       'top.l1_cache_stats.icache_total_accesses',\n",
    "                                       'top.l2_cache_stats.total_accesses',\n",
    "                                       'system.l3_cache_stats.total_accesses',\n",
    "\n",
    "                                       'top.l1_cache_stats.dcache_total_misses',\n",
    "                                       'top.l1_cache_stats.icache_total_misses',\n",
    "                                       'top.l2_cache_stats.total_misses',\n",
    "                                       'system.l3_cache_stats.total_misses',\n",
    "\n",
    "                                       'system.dram_per_ctrlr_stats.bytes_read',\n",
    "                                       'system.dram_per_ctrlr_stats.bytes_write',\n",
    "                                    #    'system.dram_per_ctrlr_stats.bw_read',\n",
    "                                    #    'system.dram_per_ctrlr_stats.bw_write',\n",
    "\n",
    "                                       'updown.cycle_stats.busy_cycles',\n",
    "                                       'updown.cycle_stats.exec_cycles', \n",
    "                                       'updown.cycle_stats.idle_cycles',\n",
    "                                       'updown.cycle_stats.stall_cycles',\n",
    "\n",
    "                                       'updown.msg',\n",
    "\n",
    "                                       'updown.action_stats.total_actions',\n",
    "                                       'updown.action_stats.yield_actions',\n",
    "\n",
    "                                       'updown.trans_stats.total_trans',\n",
    "\n",
    "                                       'updown.queue_stats.event_q_len',\n",
    "                                       'updown.queue_stats.operand_q_len',\n",
    "\n",
    "                                       'updown.local_mem_stats.read_bytes',\n",
    "                                       'updown.local_mem_stats.write_bytes',\n",
    "                                       'updown.mem_intf_stats.read_bytes',\n",
    "                                       'updown.mem_intf_stats.write_bytes',\n",
    "                                      ])\n",
    "logger.reset()\n",
    "# print(msg_dict)\n",
    "df"
   ]
  },
  {
   "cell_type": "markdown",
   "metadata": {
    "pycharm": {
     "name": "#%% md\n"
    }
   },
   "source": [
    "## Plotting"
   ]
  },
  {
   "cell_type": "code",
   "execution_count": null,
   "metadata": {
    "pycharm": {
     "name": "#%%\n"
    }
   },
   "outputs": [],
   "source": [
    "fig = df.plot.scatter(title='TOP Instruction Stats',\n",
    "                      x=df.index, \n",
    "                      y=[\n",
    "                         'top-S0C0.core_stats.num_insts',\n",
    "                         'top-S0C0.core_stats.num_insts_issued',\n",
    "                         'top-S0C0.core_stats.num_insts_committed',\n",
    "                         ])\n",
    "fig.show()"
   ]
  },
  {
   "cell_type": "code",
   "execution_count": null,
   "metadata": {
    "pycharm": {
     "name": "#%%\n"
    }
   },
   "outputs": [],
   "source": [
    "fig = df.plot.scatter(title='TOP Cache Stats',\n",
    "                      x=df.index, \n",
    "                      y=[\n",
    "                         'top-S0C0.l1_cache_stats.dcache_total_accesses',\n",
    "                         'top-S0C0.l1_cache_stats.dcache_total_misses',\n",
    "                         'top-S0C0.l1_cache_stats.icache_total_accesses',\n",
    "                         'top-S0C0.l1_cache_stats.icache_total_misses',\n",
    "                         'top-S0C0.l2_cache_stats.total_accesses',\n",
    "                         'top-S0C0.l2_cache_stats.total_misses',\n",
    "                         'system.l3_cache_stats.total_accesses',\n",
    "                         'system.l3_cache_stats.total_misses',\n",
    "                         ])\n",
    "fig.show()"
   ]
  },
  {
   "cell_type": "code",
   "execution_count": null,
   "metadata": {
    "pycharm": {
     "name": "#%%\n"
    }
   },
   "outputs": [],
   "source": [
    "fig = df.plot.scatter(title='DRAM Stats',\n",
    "                      x=df.index, \n",
    "                      y=[\n",
    "                         'system.dram_per_ctrlr_stats-C0.bytes_read',\n",
    "                         'system.dram_per_ctrlr_stats-C0.bytes_read',\n",
    "                         'system.dram_per_ctrlr_stats-C1.bytes_write',\n",
    "                         'system.dram_per_ctrlr_stats-C1.bytes_write',\n",
    "                         'system.dram_per_ctrlr_stats-C2.bytes_read',\n",
    "                         'system.dram_per_ctrlr_stats-C2.bytes_write',\n",
    "                         'system.dram_per_ctrlr_stats-C3.bytes_read',\n",
    "                         'system.dram_per_ctrlr_stats-C3.bytes_write',\n",
    "                         'system.dram_per_ctrlr_stats-C4.bytes_read',\n",
    "                         'system.dram_per_ctrlr_stats-C4.bytes_write',\n",
    "                         'system.dram_per_ctrlr_stats-C5.bytes_read',\n",
    "                         'system.dram_per_ctrlr_stats-C5.bytes_write',\n",
    "                         'system.dram_per_ctrlr_stats-C6.bytes_read',\n",
    "                         'system.dram_per_ctrlr_stats-C6.bytes_write',\n",
    "                         'system.dram_per_ctrlr_stats-C7.bytes_read',\n",
    "                         'system.dram_per_ctrlr_stats-C7.bytes_write',\n",
    "                         'updown-U0L0.mem_intf_stats.read_bytes',\n",
    "                         'updown-U0L0.mem_intf_stats.write_bytes',\n",
    "                         'updown-U0L1.mem_intf_stats.read_bytes',\n",
    "                         'updown-U0L1.mem_intf_stats.write_bytes',\n",
    "                         'updown-U0L2.mem_intf_stats.read_bytes',\n",
    "                         'updown-U0L2.mem_intf_stats.write_bytes',\n",
    "                         'updown-U0L3.mem_intf_stats.read_bytes',\n",
    "                         'updown-U0L3.mem_intf_stats.write_bytes',\n",
    "                         ])\n",
    "fig.show()"
   ]
  },
  {
   "cell_type": "code",
   "execution_count": null,
   "metadata": {
    "pycharm": {
     "name": "#%%\n"
    }
   },
   "outputs": [],
   "source": [
    "\n",
    "fig = df.plot.scatter(title='UpDown Lane Cycles',\n",
    "                      x=df.index,\n",
    "                      y=[\n",
    "                         'updown-U0L0.cycle_stats.cycles',\n",
    "                         'updown-U0L0.cycle_stats.exec_cycles',\n",
    "                         'updown-U0L1.cycle_stats.cycles',\n",
    "                         'updown-U0L1.cycle_stats.exec_cycles',\n",
    "                         'updown-U0L2.cycle_stats.cycles',\n",
    "                         'updown-U0L2.cycle_stats.exec_cycles',\n",
    "                         'updown-U0L3.cycle_stats.cycles',\n",
    "                         'updown-U0L3.cycle_stats.exec_cycles',\n",
    "                         ])\n",
    "fig.show()"
   ]
  },
  {
   "cell_type": "code",
   "execution_count": null,
   "metadata": {
    "pycharm": {
     "name": "#%%\n"
    }
   },
   "outputs": [],
   "source": [
    "fig = df.plot.scatter(title='UpDown Lane Local Memory Stats',\n",
    "                      x=df.index,\n",
    "                      y=[\n",
    "                         'updown-U0L0.local_mem_stats.read_bytes',\n",
    "                         'updown-U0L0.local_mem_stats.write_bytes',\n",
    "                         'updown-U0L1.local_mem_stats.read_bytes',\n",
    "                         'updown-U0L1.local_mem_stats.write_bytes',\n",
    "                         'updown-U0L2.local_mem_stats.read_bytes',\n",
    "                         'updown-U0L2.local_mem_stats.write_bytes',\n",
    "                         'updown-U0L3.local_mem_stats.read_bytes',\n",
    "                         'updown-U0L3.local_mem_stats.write_bytes',\n",
    "                         ])\n",
    "fig.show()"
   ]
  },
  {
   "cell_type": "code",
   "execution_count": null,
   "metadata": {
    "pycharm": {
     "name": "#%%\n"
    }
   },
   "outputs": [],
   "source": [
    "fig = df.plot.scatter(title='UpDown Lane Event Queue Stats',\n",
    "                      x=df.index,\n",
    "                      y=[\n",
    "                         'updown-U0L0.queue_stats.event_q_len',\n",
    "                         'updown-U0L1.queue_stats.event_q_len',\n",
    "                         'updown-U0L2.queue_stats.event_q_len',\n",
    "                         'updown-U0L3.queue_stats.event_q_len',\n",
    "                         ])\n",
    "fig.show()"
   ]
  },
  {
   "cell_type": "code",
   "execution_count": null,
   "metadata": {
    "pycharm": {
     "name": "#%%\n"
    }
   },
   "outputs": [],
   "source": [
    "fig = df.plot.scatter(title='UpDown Lane Operand Queue Stats',\n",
    "                      x=df.index,\n",
    "                      y=[\n",
    "                         'updown-U0L0.queue_stats.operand_q_len',\n",
    "                         'updown-U0L1.queue_stats.operand_q_len',\n",
    "                         'updown-U0L2.queue_stats.operand_q_len',\n",
    "                         'updown-U0L3.queue_stats.operand_q_len',\n",
    "                         ])\n",
    "fig.show()"
   ]
  }
 ],
 "metadata": {
  "kernelspec": {
   "display_name": "Python 3.8.10 64-bit",
   "language": "python",
   "name": "python3"
  },
  "language_info": {
   "codemirror_mode": {
    "name": "ipython",
    "version": 3
   },
   "file_extension": ".py",
   "mimetype": "text/x-python",
   "name": "python",
   "nbconvert_exporter": "python",
   "pygments_lexer": "ipython3",
   "version": "3.8.10"
  },
  "orig_nbformat": 4,
  "vscode": {
   "interpreter": {
    "hash": "31f2aee4e71d21fbe5cf8b01ff0e069b9275f58929596ceb00d14d90e3e16cd6"
   }
  }
 },
 "nbformat": 4,
 "nbformat_minor": 2
}
